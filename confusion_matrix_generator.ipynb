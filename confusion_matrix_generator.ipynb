{
 "cells": [
  {
   "cell_type": "code",
   "execution_count": 1,
   "metadata": {},
   "outputs": [
    {
     "name": "stdout",
     "output_type": "stream",
     "text": [
      "2.2.0-dlenv\n"
     ]
    }
   ],
   "source": [
    "import os\n",
    "\n",
    "import numpy as np\n",
    "import matplotlib.image as mpimg\n",
    "import matplotlib.pyplot as plt\n",
    "import tensorflow as tf\n",
    "from tensorflow import keras\n",
    "\n",
    "class_labels = ['not_pizza', 'pizza']\n",
    "\n",
    "print(tf.version.VERSION)"
   ]
  },
  {
   "cell_type": "code",
   "execution_count": 3,
   "metadata": {},
   "outputs": [],
   "source": [
    "model = tf.keras.models.load_model('models/pete.h5')"
   ]
  },
  {
   "cell_type": "code",
   "execution_count": null,
   "metadata": {},
   "outputs": [],
   "source": [
    "import os\n",
    "\n",
    "startPath = 'test_datasets/'\n",
    "\n",
    "pizza_correct = 0\n",
    "not_pizza_correct = 0\n",
    "pizza_incorrect = 0\n",
    "not_pizza_incorrect = 0\n",
    "\n",
    "for filename in os.listdir(startPath):\n",
    "    if filename.endswith(\".jpg\") or filename.endswith(\".png\"): \n",
    "        pizza_img = os.path.join(startPath, filename)\n",
    "#         plt.figure()\n",
    "#         img=mpimg.imread(pizza_img)\n",
    "#         imgplot = plt.imshow(img)\n",
    "#         plt.show()\n",
    "\n",
    "        img = tf.keras.preprocessing.image.load_img(\n",
    "          pizza_img, target_size=(150, 150)\n",
    "        )\n",
    "        img_array = tf.keras.preprocessing.image.img_to_array(img)\n",
    "        img_array = tf.expand_dims(img_array, 0) # Create a batch\n",
    "\n",
    "        predictions = model.predict(img_array)\n",
    "        score = tf.nn.softmax(predictions[0])\n",
    "        \n",
    "        actual_class = filename.split('.')[0]\n",
    "        predicted_class = class_labels[np.argmax(score)]\n",
    "        \n",
    "        if actual_class.startswith('p'):\n",
    "            if predicted_class == 'pizza':\n",
    "                pizza_correct += 1\n",
    "            else:\n",
    "                pizza_incorrect += 1\n",
    "        else:\n",
    "            if predicted_class == 'not_pizza':\n",
    "                not_pizza_correct += 1\n",
    "            else:\n",
    "                not_pizza_incorrect += 1\n",
    "\n",
    "#         print(\n",
    "#           \"This image most likely belongs to {} with a {} percent confidence. (actual image is {})\"\n",
    "#           .format(predicted_class,  np.max(score)*100, actual_class)\n",
    "#         )\n",
    "        continue\n",
    "    else:\n",
    "        continue\n",
    "\n",
    "print('done')"
   ]
  },
  {
   "cell_type": "code",
   "execution_count": null,
   "metadata": {},
   "outputs": [],
   "source": [
    "print(\"Pete's model:\")\n",
    "print('pizza_correct ' + str(494))\n",
    "print('pizza_incorrect ' + str(6))\n",
    "print('not_pizza_correct ' + str(455))\n",
    "print('not_pizza_incorrect ' + str(45))\n",
    "print('Accuracy on unseen test set: ' + str((494 + 455) / 1000))"
   ]
  }
 ],
 "metadata": {
  "environment": {
   "name": "tf2-2-2-gpu.2-2.m50",
   "type": "gcloud",
   "uri": "gcr.io/deeplearning-platform-release/tf2-2-2-gpu.2-2:m50"
  },
  "kernelspec": {
   "display_name": "Python 3",
   "language": "python",
   "name": "python3"
  },
  "language_info": {
   "codemirror_mode": {
    "name": "ipython",
    "version": 3
   },
   "file_extension": ".py",
   "mimetype": "text/x-python",
   "name": "python",
   "nbconvert_exporter": "python",
   "pygments_lexer": "ipython3",
   "version": "3.7.6"
  }
 },
 "nbformat": 4,
 "nbformat_minor": 4
}
